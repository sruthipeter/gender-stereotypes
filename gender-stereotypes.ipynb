{
 "cells": [
  {
   "cell_type": "markdown",
   "metadata": {},
   "source": [
    "# Gender Stereotypes in Romantic Relationships"
   ]
  },
  {
   "cell_type": "markdown",
   "metadata": {},
   "source": [
    "## Data"
   ]
  },
  {
   "cell_type": "markdown",
   "metadata": {},
   "source": [
    "The data was collected in an online survey using [Google Forms](https://www.google.com/forms/about/). A total of 51 responses were collected, of which 48 were deemed to be valid. The data was anonymized and available in this repository. Let's read in the data first into a dataframe."
   ]
  },
  {
   "cell_type": "code",
   "execution_count": 2,
   "metadata": {
    "collapsed": false
   },
   "outputs": [],
   "source": [
    "data <- read.csv('anonymized-data.csv', head=TRUE, fileEncoding=\"latin1\")"
   ]
  },
  {
   "cell_type": "markdown",
   "metadata": {},
   "source": [
    "Let's look at the first 3 lines to inspect the data"
   ]
  },
  {
   "cell_type": "code",
   "execution_count": 3,
   "metadata": {
    "collapsed": false
   },
   "outputs": [
    {
     "data": {
      "text/html": [
       "<table>\n",
       "<thead><tr><th scope=col>Timestamp</th><th scope=col>IÕm.over.18.years.of.age</th><th scope=col>I.consent.to.participate.in.the.study</th><th scope=col>Who.has.the.final.say.in.making.decisions.about.the.following.six.issues....Buying.a.car.or.furniture.</th><th scope=col>Who.has.the.final.say.in.making.decisions.about.the.following.six.issues....Having.children.</th><th scope=col>Who.has.the.final.say.in.making.decisions.about.the.following.six.issues....What.house.or.apartment.to.take.</th><th scope=col>Who.has.the.final.say.in.making.decisions.about.the.following.six.issues....What.job.either.partner.should.take.</th><th scope=col>Who.has.the.final.say.in.making.decisions.about.the.following.six.issues....Whether.a.partner.should.go.to.work.or.quit.work.</th><th scope=col>Who.has.the.final.say.in.making.decisions.about.the.following.six.issues....How.much.money.to.spend.each.week.on.food.</th><th scope=col>Please.choose.one.option.for.each.of.the.following.questions..I.feel.my.partner.is.affectionate.enough.</th><th scope=col>⋯</th><th scope=col>Age</th><th scope=col>Number.of.male.siblings</th><th scope=col>Number.of.female.siblings</th><th scope=col>Would.you.consider.yourself.having.influenced.by.female.figures.other.than.your.mother.</th><th scope=col>Have.you.spent.substantial.amount.of.time.with.cousins..first.or.second..in.your.childhood.or.in.your.adulthood.</th><th scope=col>If.yes..how.many.were.males..approx..</th><th scope=col>If.yes..how.many.were.females..approx...</th><th scope=col>Which.of.the.following.best.describes.your.current.relationship.status.</th><th scope=col>Length.of.the.current.relationship..if.applicable..approx..</th><th scope=col>Who.has.the.final.say.in.making.decisions.about.the.following.six.issues....How.much.money.to.send.to.relatives.</th></tr></thead>\n",
       "<tbody>\n",
       "\t<tr><td>9/25/2015 12:46:33                   </td><td>Yes                                  </td><td>Yes                                  </td><td>you alone                            </td><td>you and your partner exactly the same</td><td>you alone                            </td><td>you and your partner exactly the same</td><td>your partner alone                   </td><td>you and your partner exactly the same</td><td>Sometime                             </td><td>⋯                                    </td><td>26                                   </td><td>1                                    </td><td>1                                    </td><td>No                                   </td><td>No                                   </td><td>                                     </td><td>                                     </td><td>Seperated                            </td><td>                                     </td><td>                                     </td></tr>\n",
       "\t<tr><td>9/25/2015 13:55:46                   </td><td>Yes                                  </td><td>Yes                                  </td><td>you alone                            </td><td>you and your partner exactly the same</td><td>you and your partner exactly the same</td><td>you and your partner exactly the same</td><td>your partner more than you           </td><td>you and your partner exactly the same</td><td>A good part of the time              </td><td>⋯                                    </td><td>26                                   </td><td>0                                    </td><td>3                                    </td><td>No                                   </td><td>No                                   </td><td>2                                    </td><td>5                                    </td><td>Single, never married                </td><td>1 year                               </td><td>                                     </td></tr>\n",
       "\t<tr><td>9/25/2015 17:30:23                   </td><td>Yes                                  </td><td>Yes                                  </td><td>you more than your partner           </td><td>you and your partner exactly the same</td><td>you and your partner exactly the same</td><td>you and your partner exactly the same</td><td>your partner more than you           </td><td>you and your partner exactly the same</td><td>Sometime                             </td><td>⋯                                    </td><td>24                                   </td><td>1                                    </td><td>0                                    </td><td>No                                   </td><td>No                                   </td><td>                                     </td><td>                                     </td><td>Single, never married                </td><td>                                     </td><td>                                     </td></tr>\n",
       "</tbody>\n",
       "</table>\n"
      ],
      "text/latex": [
       "\\begin{tabular}{r|lllllllllllllllllllllllllllllllllllllllllllll}\n",
       " Timestamp & IÕm.over.18.years.of.age & I.consent.to.participate.in.the.study & Who.has.the.final.say.in.making.decisions.about.the.following.six.issues....Buying.a.car.or.furniture. & Who.has.the.final.say.in.making.decisions.about.the.following.six.issues....Having.children. & Who.has.the.final.say.in.making.decisions.about.the.following.six.issues....What.house.or.apartment.to.take. & Who.has.the.final.say.in.making.decisions.about.the.following.six.issues....What.job.either.partner.should.take. & Who.has.the.final.say.in.making.decisions.about.the.following.six.issues....Whether.a.partner.should.go.to.work.or.quit.work. & Who.has.the.final.say.in.making.decisions.about.the.following.six.issues....How.much.money.to.spend.each.week.on.food. & Please.choose.one.option.for.each.of.the.following.questions..I.feel.my.partner.is.affectionate.enough. & ⋯ & Age & Number.of.male.siblings & Number.of.female.siblings & Would.you.consider.yourself.having.influenced.by.female.figures.other.than.your.mother. & Have.you.spent.substantial.amount.of.time.with.cousins..first.or.second..in.your.childhood.or.in.your.adulthood. & If.yes..how.many.were.males..approx.. & If.yes..how.many.were.females..approx... & Which.of.the.following.best.describes.your.current.relationship.status. & Length.of.the.current.relationship..if.applicable..approx.. & Who.has.the.final.say.in.making.decisions.about.the.following.six.issues....How.much.money.to.send.to.relatives.\\\\\n",
       "\\hline\n",
       "\t 9/25/2015 12:46:33                    & Yes                                   & Yes                                   & you alone                             & you and your partner exactly the same & you alone                             & you and your partner exactly the same & your partner alone                    & you and your partner exactly the same & Sometime                              & ⋯                                     & 26                                    & 1                                     & 1                                     & No                                    & No                                    &                                       &                                       & Seperated                             &                                       &                                      \\\\\n",
       "\t 9/25/2015 13:55:46                    & Yes                                   & Yes                                   & you alone                             & you and your partner exactly the same & you and your partner exactly the same & you and your partner exactly the same & your partner more than you            & you and your partner exactly the same & A good part of the time               & ⋯                                     & 26                                    & 0                                     & 3                                     & No                                    & No                                    & 2                                     & 5                                     & Single, never married                 & 1 year                                &                                      \\\\\n",
       "\t 9/25/2015 17:30:23                    & Yes                                   & Yes                                   & you more than your partner            & you and your partner exactly the same & you and your partner exactly the same & you and your partner exactly the same & your partner more than you            & you and your partner exactly the same & Sometime                              & ⋯                                     & 24                                    & 1                                     & 0                                     & No                                    & No                                    &                                       &                                       & Single, never married                 &                                       &                                      \\\\\n",
       "\\end{tabular}\n"
      ],
      "text/plain": [
       "  Timestamp          IÕm.over.18.years.of.age\n",
       "1 9/25/2015 12:46:33 Yes                     \n",
       "2 9/25/2015 13:55:46 Yes                     \n",
       "3 9/25/2015 17:30:23 Yes                     \n",
       "  I.consent.to.participate.in.the.study\n",
       "1 Yes                                  \n",
       "2 Yes                                  \n",
       "3 Yes                                  \n",
       "  Who.has.the.final.say.in.making.decisions.about.the.following.six.issues....Buying.a.car.or.furniture.\n",
       "1 you alone                                                                                             \n",
       "2 you alone                                                                                             \n",
       "3 you more than your partner                                                                            \n",
       "  Who.has.the.final.say.in.making.decisions.about.the.following.six.issues....Having.children.\n",
       "1 you and your partner exactly the same                                                       \n",
       "2 you and your partner exactly the same                                                       \n",
       "3 you and your partner exactly the same                                                       \n",
       "  Who.has.the.final.say.in.making.decisions.about.the.following.six.issues....What.house.or.apartment.to.take.\n",
       "1 you alone                                                                                                   \n",
       "2 you and your partner exactly the same                                                                       \n",
       "3 you and your partner exactly the same                                                                       \n",
       "  Who.has.the.final.say.in.making.decisions.about.the.following.six.issues....What.job.either.partner.should.take.\n",
       "1 you and your partner exactly the same                                                                           \n",
       "2 you and your partner exactly the same                                                                           \n",
       "3 you and your partner exactly the same                                                                           \n",
       "  Who.has.the.final.say.in.making.decisions.about.the.following.six.issues....Whether.a.partner.should.go.to.work.or.quit.work.\n",
       "1 your partner alone                                                                                                           \n",
       "2 your partner more than you                                                                                                   \n",
       "3 your partner more than you                                                                                                   \n",
       "  Who.has.the.final.say.in.making.decisions.about.the.following.six.issues....How.much.money.to.spend.each.week.on.food.\n",
       "1 you and your partner exactly the same                                                                                 \n",
       "2 you and your partner exactly the same                                                                                 \n",
       "3 you and your partner exactly the same                                                                                 \n",
       "  Please.choose.one.option.for.each.of.the.following.questions..I.feel.my.partner.is.affectionate.enough.\n",
       "1 Sometime                                                                                               \n",
       "2 A good part of the time                                                                                \n",
       "3 Sometime                                                                                               \n",
       "  ⋯ Age Number.of.male.siblings Number.of.female.siblings\n",
       "1 ⋯ 26  1                       1                        \n",
       "2 ⋯ 26  0                       3                        \n",
       "3 ⋯ 24  1                       0                        \n",
       "  Would.you.consider.yourself.having.influenced.by.female.figures.other.than.your.mother.\n",
       "1 No                                                                                     \n",
       "2 No                                                                                     \n",
       "3 No                                                                                     \n",
       "  Have.you.spent.substantial.amount.of.time.with.cousins..first.or.second..in.your.childhood.or.in.your.adulthood.\n",
       "1 No                                                                                                              \n",
       "2 No                                                                                                              \n",
       "3 No                                                                                                              \n",
       "  If.yes..how.many.were.males..approx..\n",
       "1                                      \n",
       "2 2                                    \n",
       "3                                      \n",
       "  If.yes..how.many.were.females..approx...\n",
       "1                                         \n",
       "2 5                                       \n",
       "3                                         \n",
       "  Which.of.the.following.best.describes.your.current.relationship.status.\n",
       "1 Seperated                                                              \n",
       "2 Single, never married                                                  \n",
       "3 Single, never married                                                  \n",
       "  Length.of.the.current.relationship..if.applicable..approx..\n",
       "1                                                            \n",
       "2 1 year                                                     \n",
       "3                                                            \n",
       "  Who.has.the.final.say.in.making.decisions.about.the.following.six.issues....How.much.money.to.send.to.relatives.\n",
       "1                                                                                                                 \n",
       "2                                                                                                                 \n",
       "3                                                                                                                 "
      ]
     },
     "metadata": {},
     "output_type": "display_data"
    }
   ],
   "source": [
    "head(data,3)"
   ]
  },
  {
   "cell_type": "markdown",
   "metadata": {},
   "source": [
    "We first compute the following scales from this raw data. Check the [procedure section](report.pdf) for more details on these scales. \n",
    "* Self Perceived Decision Making Power (SPDM)\n",
    "* Index of Marital Satisfaction (IMS)\n",
    "* Shared Power Index \n",
    "* Decision Power Index\n",
    "* Cross Classified Relationships\n",
    "\n",
    "We have a handy [python script](compute_scales.py) to compute the above scales from the raw data and create a new data file that will easier to analyze. You can run the script as follows:\n",
    "```\n",
    "python compute_scales.py anonymized-data.csv\n",
    "```\n",
    "\n",
    "For convenience, we have already executed the above command, and 'output.csv' is available along with this repository."
   ]
  },
  {
   "cell_type": "code",
   "execution_count": 15,
   "metadata": {
    "collapsed": false
   },
   "outputs": [],
   "source": [
    "data <- read.csv(file='output.csv', head=TRUE)\n"
   ]
  },
  {
   "cell_type": "code",
   "execution_count": null,
   "metadata": {
    "collapsed": true
   },
   "outputs": [],
   "source": []
  }
 ],
 "metadata": {
  "kernelspec": {
   "display_name": "R",
   "language": "R",
   "name": "ir"
  },
  "language_info": {
   "codemirror_mode": "r",
   "file_extension": ".r",
   "mimetype": "text/x-r-source",
   "name": "R",
   "pygments_lexer": "r",
   "version": "3.3.1"
  }
 },
 "nbformat": 4,
 "nbformat_minor": 1
}
